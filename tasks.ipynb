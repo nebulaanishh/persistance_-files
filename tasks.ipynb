{
 "cells": [
  {
   "cell_type": "markdown",
   "metadata": {},
   "source": [
    "## 1. Replace 'Hello' with 'HI'"
   ]
  },
  {
   "cell_type": "code",
   "execution_count": 86,
   "metadata": {},
   "outputs": [
    {
     "name": "stdout",
     "output_type": "stream",
     "text": [
      "'Hello' replaced by 'Hi' Successfully!! \n"
     ]
    }
   ],
   "source": [
    "def replace_with(file_name,to_replace, replace_by):\n",
    "    try:\n",
    "        with open(file_name, 'r') as file:\n",
    "            file_content = file.read()\n",
    "            updated_contents = file_content.replace(to_replace, replace_by)\n",
    "        with open(file_name, 'w') as file:\n",
    "            file.write(updated_contents) \n",
    "        print(f\"'{to_replace}' replaced by '{replace_by}' Successfully!! \")\n",
    "    except Exception as e:\n",
    "        print(f\"Error Occured: {e}\")\n",
    "replace_with(\"task1.txt\",'Hello', 'Hi')\n",
    "# replace_with('task1.txt', 'Hi', \"Hello\")"
   ]
  },
  {
   "cell_type": "markdown",
   "metadata": {},
   "source": [
    "## 2.  Calculate word frequency in a file\n"
   ]
  },
  {
   "cell_type": "markdown",
   "metadata": {},
   "source": []
  },
  {
   "cell_type": "code",
   "execution_count": 67,
   "metadata": {},
   "outputs": [
    {
     "name": "stdout",
     "output_type": "stream",
     "text": [
      "{'banana': 4, 'apple': 3, 'orange': 1, 'grape': 1}\n"
     ]
    }
   ],
   "source": [
    "def word_frequency(word):\n",
    "    with open(\"task2.txt\", 'r') as file:\n",
    "        file_content = file.read()\n",
    "        word_count = {}\n",
    "        file_content = file_content.split(\" \")\n",
    "        clean_file_content = []\n",
    "        for item in file_content:\n",
    "            if \"\\n\" in item:\n",
    "                clean_file_content += item.split(\"\\n\")\n",
    "            else:\n",
    "                clean_file_content.append(item)\n",
    "        # print(clean_file_content)\n",
    "\n",
    "        for item in clean_file_content:\n",
    "            if item == \"\":\n",
    "                break\n",
    "            if item not in word_count:\n",
    "                word_count[item] = 1\n",
    "            else:\n",
    "                word_count[item] +=1\n",
    "\n",
    "        sorted_dict = sorted(word_count.items(), key=lambda x:x[1], reverse=True)\n",
    "        word_count = {}\n",
    "        for item in sorted_dict:\n",
    "            word_count[item[0]] = item[1]\n",
    "        return word_count\n",
    "    \n",
    "result= word_frequency(\"hello\")\n",
    "print(result)"
   ]
  },
  {
   "cell_type": "markdown",
   "metadata": {},
   "source": [
    "### 3. Merge Two text files line by line"
   ]
  },
  {
   "cell_type": "code",
   "execution_count": 79,
   "metadata": {},
   "outputs": [],
   "source": [
    "def merge_two_text_line_by_line(file1, file2):\n",
    "    \"\"\" \"\"\"\n",
    "    with open(file1, 'r') as file:\n",
    "        file1_line = file.readlines()\n",
    "    file1_line = [x[:-1] for x in file1_line]\n",
    "    \n",
    "    with open(file2, 'r') as file:\n",
    "        file2_line = file.readlines()\n",
    "    file_name = file1.split(\".\")[0]\n",
    "    file_name += file2.split(\".\")[0]\n",
    "\n",
    "    with open(f\"{file_name}.txt\", 'w') as file:\n",
    "        for line_number in range(len(file1_line)):\n",
    "            file.writelines(file1_line[line_number] + \"     \" + file2_line[line_number])\n",
    "\n",
    "\n",
    "\n",
    "merge_two_text_line_by_line('task3_1.txt', 'task3_2.txt')"
   ]
  },
  {
   "cell_type": "code",
   "execution_count": 49,
   "metadata": {},
   "outputs": [],
   "source": []
  }
 ],
 "metadata": {
  "kernelspec": {
   "display_name": "Python 3",
   "language": "python",
   "name": "python3"
  },
  "language_info": {
   "codemirror_mode": {
    "name": "ipython",
    "version": 3
   },
   "file_extension": ".py",
   "mimetype": "text/x-python",
   "name": "python",
   "nbconvert_exporter": "python",
   "pygments_lexer": "ipython3",
   "version": "3.11.8"
  }
 },
 "nbformat": 4,
 "nbformat_minor": 2
}
